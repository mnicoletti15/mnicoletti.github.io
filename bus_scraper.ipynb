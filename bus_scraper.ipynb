{
 "cells": [
  {
   "cell_type": "code",
   "execution_count": 1,
   "metadata": {
    "collapsed": true
   },
   "outputs": [],
   "source": [
    "# %load sample_scraper.py\n",
    "# import csv\n",
    "from selenium import webdriver\n",
    "from selenium.webdriver.common.keys import Keys\n",
    "from selenium.webdriver.support.ui import Select\n",
    "from selenium.webdriver.support.ui import WebDriverWait\n",
    "from selenium.webdriver.support import expected_conditions as EC\n",
    "from selenium.common.exceptions import TimeoutException\n",
    "\n",
    "import sys\n",
    "import re\n",
    "import csv"
   ]
  },
  {
   "cell_type": "code",
   "execution_count": 16,
   "metadata": {
    "collapsed": true
   },
   "outputs": [],
   "source": [
    "driver = webdriver.Chrome()"
   ]
  },
  {
   "cell_type": "code",
   "execution_count": 17,
   "metadata": {
    "collapsed": true
   },
   "outputs": [],
   "source": [
    "sys.stdout = sys.__stdout__\n",
    "\n",
    "print(\"--start--\")\n",
    "\n",
    "# Bus Stops - Local Part 1\n",
    "# sys.stdout = open(\"buses.txt\", \"w\")\n",
    "\n",
    "\n",
    "url = \"http://www.actransit.org/rider-info/stops/local1/\"\n",
    "driver.get(url)"
   ]
  },
  {
   "cell_type": "code",
   "execution_count": 18,
   "metadata": {},
   "outputs": [],
   "source": [
    "bus_stops = driver.find_elements_by_xpath(\"//a[@href]\")\n",
    "\n",
    "buss = set()\n",
    "for a in bus_stops:\n",
    "    m = re.match(\"^https?\\:\\/\\/maps\\.?google\\.[a-z]+\\/maps\\/?\\?q=@([^&]+),([^&]+)\\&\", a.get_attribute(\"href\"))\n",
    "    if m:\n",
    "        buss.add((m.groups()[0], m.groups()[1]))\n",
    "\n",
    "    \n",
    "print(buss)\n",
    "# sys.stdout = sys.__stdout__\n",
    "print(\"--finished--\")\n",
    "driver.close()"
   ]
  },
  {
   "cell_type": "code",
   "execution_count": 21,
   "metadata": {},
   "outputs": [],
   "source": [
    "with open('buses.csv', 'wb') as csvfile:\n",
    "    spamwriter = csv.writer(csvfile, delimiter=',',\n",
    "                            quotechar='|', quoting=csv.QUOTE_MINIMAL)\n",
    "    spamwriter.writerow([\"Lat\", \"Lng\"])\n",
    "    for lat, lng in buss:\n",
    "        spamwriter.writerow([lat, lng])"
   ]
  },
  {
   "cell_type": "code",
   "execution_count": null,
   "metadata": {
    "collapsed": true
   },
   "outputs": [],
   "source": []
  }
 ],
 "metadata": {
  "kernelspec": {
   "display_name": "python3",
   "language": "python",
   "name": "python3"
  },
  "language_info": {
   "codemirror_mode": {
    "name": "ipython",
    "version": 2
   },
   "file_extension": ".py",
   "mimetype": "text/x-python",
   "name": "python",
   "nbconvert_exporter": "python",
   "pygments_lexer": "ipython2",
   "version": "2.7.14"
  }
 },
 "nbformat": 4,
 "nbformat_minor": 2
}
